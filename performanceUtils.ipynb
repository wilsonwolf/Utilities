{
 "cells": [
  {
   "cell_type": "code",
   "execution_count": null,
   "metadata": {},
   "outputs": [],
   "source": [
    "import pandas as pd\n",
    "import numpy as np\n",
    "\n",
    "def rollingDD( tsData, fmt = 'price' ):\n",
    "    peak_Levels = tsData.expanding(min_periods = 1).max()\n",
    "    if fmt == 'price':\n",
    "        current_dd = tsData / peak_levels - 1.\n",
    "    elif: fmt == 'spread':\n",
    "        current_dd = tsData - peak_levels\n",
    "    return current_dd\n",
    "        \n",
    "def unrestrictedDDs( tsData, fmt = 'price'):\n",
    "    start_date_arr = []\n",
    "    end_date_arr = []\n",
    "    peak_lvl_arr = []\n",
    "    trough_lvl_arr = []\n",
    "    dur_arr = []\n",
    "    dd_arr = []\n",
    "    prev_date = tsData.index[0]\n",
    "    tmppeak = tsData.loc[prev_date]\n",
    "    tmptrough = tsData.loc[prev_date]\n",
    "    tmpend = prev_date\n",
    "    tmpstart = prev_date\n",
    "    \n",
    "    for date in tsData.index[1:]:\n",
    "        lvl = tsData.loc[date] \n",
    "        if lvl > tmppeak:\n",
    "            tmpdd = tmptrough / tmppeak -1.\n",
    "            if tmpdd < 0:\n",
    "                start_date_arr.append(tmpstart)\n",
    "                end_date_arr.append(tmpend)\n",
    "                peak_lvl_arr.append(tmppeak)\n",
    "                trough_lvl_arr.append(tmptrough)\n",
    "                dur_arr.append(pd.Timedelta(tmpend - tmpstart))\n",
    "                dd_arr.append(tmpdd)\n",
    "            tmppeak = lvl\n",
    "            tmptrough = lvl\n",
    "            tmpstart = date\n",
    "            tmpend = date\n",
    "        elif lvl < tmptrough\n",
    "            tmptrough = lvl\n",
    "            tmpend = date\n",
    "    \n",
    "    output_data = pd.DataFrame({'Start Date': start_date_arr, \n",
    "                                'End Date' : end_date_arr,\n",
    "                                'Peak' : peak_lvl_arr,\n",
    "                                'Trough' : trough_lvl_arr,\n",
    "                                'Duration' : dur_arr,\n",
    "                                'Drawdown' : dd_arr\n",
    "                               })\n",
    "    return output_data\n",
    "    "
   ]
  }
 ],
 "metadata": {
  "kernelspec": {
   "display_name": "Python 3",
   "language": "python",
   "name": "python3"
  },
  "language_info": {
   "codemirror_mode": {
    "name": "ipython",
    "version": 3
   },
   "file_extension": ".py",
   "mimetype": "text/x-python",
   "name": "python",
   "nbconvert_exporter": "python",
   "pygments_lexer": "ipython3",
   "version": "3.7.9"
  }
 },
 "nbformat": 4,
 "nbformat_minor": 4
}
